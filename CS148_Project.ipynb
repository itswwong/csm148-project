{
 "cells": [
  {
   "cell_type": "markdown",
   "metadata": {
    "colab_type": "text",
    "id": "view-in-github"
   },
   "source": [
    "<a href=\"https://colab.research.google.com/github/itswwong/csm148-project/blob/main/CS148_Project.ipynb\" target=\"_parent\"><img src=\"https://colab.research.google.com/assets/colab-badge.svg\" alt=\"Open In Colab\"/></a>"
   ]
  },
  {
   "cell_type": "markdown",
   "metadata": {},
   "source": [
    "## 1. Data Set Explanation"
   ]
  },
  {
   "cell_type": "markdown",
   "metadata": {},
   "source": [
    "Our team selected the Sleep Health and Lifestyle Dataset, which contains information about individuals’ demographics, daily habits, physical health, and sleep patterns."
   ]
  },
  {
   "cell_type": "markdown",
   "metadata": {},
   "source": [
    "## 2. Main Features"
   ]
  },
  {
   "cell_type": "markdown",
   "metadata": {},
   "source": [
    "We are studying how Stress, Activity, Steps, HR, BP, BMI, Age, Gender, and Occupation affect Quality of Sleep."
   ]
  },
  {
   "cell_type": "code",
   "execution_count": null,
   "metadata": {
    "id": "Q9ZrPsd9LU_k"
   },
   "outputs": [],
   "source": [
    "# Import necessary libraries\n",
    "import pandas as pd\n",
    "import numpy as np\n",
    "import matplotlib.pyplot as plt\n",
    "import seaborn as sns\n",
    "from scipy import stats\n",
    "import warnings\n",
    "warnings.filterwarnings('ignore')\n",
    "\n",
    "# Set plotting style\n",
    "plt.style.use('default')\n",
    "sns.set_palette(\"husl\")\n",
    "\n",
    "# Load the dataset\n",
    "df = pd.read_csv('dataset.csv')\n",
    "\n",
    "# Display basic information about the dataset\n",
    "df.head()"
   ]
  },
  {
   "cell_type": "markdown",
   "metadata": {},
   "source": [
    "## 3. Data Cleaning"
   ]
  },
  {
   "cell_type": "code",
   "execution_count": null,
   "metadata": {},
   "outputs": [],
   "source": [
    "# Check for missing values\n",
    "missing_values = df.isnull().sum()\n",
    "missing_percentage = (missing_values / len(df)) * 100\n",
    "\n",
    "missing_df = pd.DataFrame({\n",
    "    'Missing Count': missing_values,\n",
    "    'Missing Percentage': missing_percentage\n",
    "})\n",
    "\n",
    "# If no missing values, show that the dataset is complete\n",
    "\n",
    "# Check for duplicate rows\n",
    "duplicates = df.duplicated().sum()"
   ]
  },
  {
   "cell_type": "code",
   "execution_count": null,
   "metadata": {},
   "outputs": [],
   "source": [
    "# Replace \"Normal Weight\" with \"Normal\" in the original dataset\n",
    "df['BMI Category'] = df['BMI Category'].replace('Normal Weight', 'Normal')"
   ]
  },
  {
   "cell_type": "code",
   "execution_count": null,
   "metadata": {},
   "outputs": [],
   "source": [
    "# Create a copy for cleaning\n",
    "df_clean = df.copy()\n",
    "\n",
    "# 1. Handle Blood Pressure column (split into systolic and diastolic)\n",
    "bp_split = df_clean['Blood Pressure'].str.split('/', expand=True)\n",
    "df_clean['Systolic_BP'] = pd.to_numeric(bp_split[0])\n",
    "df_clean['Diastolic_BP'] = pd.to_numeric(bp_split[1])\n",
    "\n",
    "# 2. Create binary variables for sleep disorders\n",
    "df_clean['Has_Sleep_Disorder'] = (df_clean['Sleep Disorder'] != 'None').astype(int)\n",
    "df_clean['Has_Insomnia'] = (df_clean['Sleep Disorder'] == 'Insomnia').astype(int)\n",
    "df_clean['Has_Sleep_Apnea'] = (df_clean['Sleep Disorder'] == 'Sleep Apnea').astype(int)\n",
    "\n",
    "# 3. Create BMI numeric variable (for easier analysis)\n",
    "bmi_mapping = {\n",
    "    'Normal': 1,\n",
    "    'Overweight': 2,\n",
    "    'Obese': 3\n",
    "}\n",
    "df_clean['BMI_Numeric'] = df_clean['BMI Category'].map(bmi_mapping)\n",
    "\n",
    "# 4. Create age groups for better analysis\n",
    "df_clean['Age_Group'] = pd.cut(df_clean['Age'], \n",
    "                               bins=[0, 30, 40, 50, 100], \n",
    "                               labels=['Young Adult', 'Adult', 'Middle Age', 'Senior'])\n",
    "\n",
    "# 5. Create physical activity level categories\n",
    "df_clean['Activity_Level'] = pd.cut(df_clean['Physical Activity Level'],\n",
    "                                   bins=[0, 30, 60, 100],\n",
    "                                   labels=['Low', 'Moderate', 'High'])\n",
    "\n",
    "\n",
    "# Display summary of cleaned data\n",
    "df_clean.describe()"
   ]
  },
  {
   "cell_type": "markdown",
   "metadata": {},
   "source": [
    "## 4. Exploratory Data Analysis (EDA)"
   ]
  },
  {
   "cell_type": "code",
   "execution_count": null,
   "metadata": {},
   "outputs": [],
   "source": [
    "# Occupation and Sleep Quality Analysis\n",
    "plt.figure(figsize=(15, 10))\n",
    "\n",
    "# Top plot: Average sleep quality by occupation\n",
    "plt.subplot(2, 2, 1)\n",
    "occupation_sleep = df_clean.groupby('Occupation')['Quality of Sleep'].agg(['mean', 'count']).sort_values('mean', ascending=False)\n",
    "occupation_sleep['mean'].plot(kind='bar', color='lightcoral')\n",
    "plt.title('Average Sleep Quality by Occupation')\n",
    "plt.xlabel('Occupation')\n",
    "plt.ylabel('Average Sleep Quality')\n",
    "plt.xticks(rotation=45, ha='right')\n",
    "plt.grid(True, alpha=0.3)\n",
    "\n",
    "# Bottom left: Sleep quality distribution by occupation\n",
    "plt.subplot(2, 2, 2)\n",
    "top_occupations = occupation_sleep.head(6).index\n",
    "df_top_occ = df_clean[df_clean['Occupation'].isin(top_occupations)]\n",
    "sns.boxplot(data=df_top_occ, x='Occupation', y='Quality of Sleep')\n",
    "plt.title('Sleep Quality Distribution by Top Occupations')\n",
    "plt.xticks(rotation=45, ha='right')\n",
    "plt.grid(True, alpha=0.3)\n",
    "\n",
    "# Bottom right: Physical health vs sleep quality\n",
    "plt.subplot(2, 2, 3)\n",
    "plt.scatter(df_clean['Physical Activity Level'], df_clean['Quality of Sleep'], \n",
    "           alpha=0.6, c=df_clean['Stress Level'], cmap='viridis')\n",
    "plt.xlabel('Physical Activity Level')\n",
    "plt.ylabel('Sleep Quality')\n",
    "plt.title('Physical Activity vs Sleep Quality\\n(Color = Stress Level)')\n",
    "plt.colorbar(label='Stress Level')\n",
    "plt.grid(True, alpha=0.3)\n",
    "\n",
    "# Bottom right: BMI vs sleep quality\n",
    "plt.subplot(2, 2, 4)\n",
    "bmi_sleep = df_clean.groupby('BMI Category')['Quality of Sleep'].mean()\n",
    "bmi_sleep.plot(kind='bar', color=['green', 'yellow', 'orange', 'red'])\n",
    "plt.title('Average Sleep Quality by BMI Category')\n",
    "plt.xlabel('BMI Category')\n",
    "plt.ylabel('Average Sleep Quality')\n",
    "plt.xticks(rotation=45)\n",
    "plt.grid(True, alpha=0.3)\n",
    "\n",
    "plt.tight_layout()\n",
    "plt.show()\n",
    "\n",
    "# Statistical analysis of occupation effects\n",
    "from scipy.stats import f_oneway\n",
    "\n",
    "occupations = df_clean['Occupation'].unique()\n",
    "occupation_groups = [df_clean[df_clean['Occupation'] == occ]['Quality of Sleep'].values \n",
    "                    for occ in occupations]\n",
    "\n",
    "f_stat, p_value = f_oneway(*occupation_groups)"
   ]
  }
 ],
 "metadata": {
  "colab": {
   "authorship_tag": "ABX9TyO+JDsDX8ZDVUqpqThvf9bj",
   "include_colab_link": true,
   "provenance": []
  },
  "kernelspec": {
   "display_name": "Python 3",
   "name": "python3"
  },
  "language_info": {
   "name": "python"
  }
 },
 "nbformat": 4,
 "nbformat_minor": 0
}
